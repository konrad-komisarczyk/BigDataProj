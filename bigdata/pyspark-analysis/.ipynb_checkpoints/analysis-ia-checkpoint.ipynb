{
 "cells": [
  {
   "cell_type": "code",
   "execution_count": 117,
   "id": "707e33b7",
   "metadata": {},
   "outputs": [],
   "source": [
    "import findspark\n",
    "\n",
    "findspark.init()\n",
    "\n",
    "import pandas as pd"
   ]
  },
  {
   "cell_type": "code",
   "execution_count": 50,
   "id": "268d3826",
   "metadata": {},
   "outputs": [],
   "source": [
    "from pyspark.sql import SQLContext\n",
    "\n",
    "from pyspark.sql import SparkSession\n",
    "from pyspark.sql.functions import col,sum,avg,max,min,mean,count\n",
    "\n",
    "\n"
   ]
  },
  {
   "cell_type": "code",
   "execution_count": 7,
   "id": "805ed28a",
   "metadata": {},
   "outputs": [
    {
     "ename": "NameError",
     "evalue": "name 'PysparkContext' is not defined",
     "output_type": "error",
     "traceback": [
      "\u001b[0;31m---------------------------------------------------------------------------\u001b[0m",
      "\u001b[0;31mNameError\u001b[0m                                 Traceback (most recent call last)",
      "\u001b[0;32m/tmp/ipykernel_10311/307824729.py\u001b[0m in \u001b[0;36m<module>\u001b[0;34m\u001b[0m\n\u001b[0;32m----> 1\u001b[0;31m \u001b[0msc\u001b[0m \u001b[0;34m=\u001b[0m \u001b[0mPysparkContext\u001b[0m\u001b[0;34m(\u001b[0m\u001b[0;34m)\u001b[0m\u001b[0;34m\u001b[0m\u001b[0;34m\u001b[0m\u001b[0m\n\u001b[0m\u001b[1;32m      2\u001b[0m \u001b[0msqlContext\u001b[0m \u001b[0;34m=\u001b[0m \u001b[0mSQLContext\u001b[0m\u001b[0;34m(\u001b[0m\u001b[0msc\u001b[0m\u001b[0;34m)\u001b[0m\u001b[0;34m\u001b[0m\u001b[0;34m\u001b[0m\u001b[0m\n\u001b[1;32m      3\u001b[0m \u001b[0;34m\u001b[0m\u001b[0m\n\u001b[1;32m      4\u001b[0m \u001b[0;34m\u001b[0m\u001b[0m\n",
      "\u001b[0;31mNameError\u001b[0m: name 'PysparkContext' is not defined"
     ]
    }
   ],
   "source": [
    "\n",
    "sqlContext = SQLContext(sc)\n",
    "\n",
    "\n",
    "\n",
    "\n",
    "df =sqlContext.read.format('csv').options(header='true', inferschema='true').load('hdfs://localhost:8020/user/<user_name>/MAR15.csv')df.show()"
   ]
  },
  {
   "cell_type": "code",
   "execution_count": 5,
   "id": "bad8a789",
   "metadata": {},
   "outputs": [
    {
     "name": "stderr",
     "output_type": "stream",
     "text": [
      "22/01/23 11:16:52 WARN util.Utils: Your hostname, node1 resolves to a loopback address: 127.0.0.1; using 192.168.137.173 instead (on interface ens3)\n",
      "22/01/23 11:16:52 WARN util.Utils: Set SPARK_LOCAL_IP if you need to bind to another address\n",
      "22/01/23 11:16:53 WARN util.NativeCodeLoader: Unable to load native-hadoop library for your platform... using builtin-java classes where applicable\n",
      "Setting default log level to \"WARN\".\n",
      "To adjust logging level use sc.setLogLevel(newLevel). For SparkR, use setLogLevel(newLevel).\n"
     ]
    }
   ],
   "source": [
    "spark = (\n",
    "    SparkSession.builder\n",
    "    .appName(\"HDFS\")\n",
    "    .getOrCreate()\n",
    ")\n"
   ]
  },
  {
   "cell_type": "code",
   "execution_count": 154,
   "id": "cbce4ef8",
   "metadata": {},
   "outputs": [],
   "source": [
    "webpages = (\n",
    "    spark.read\n",
    "    .parquet('hdfs://localhost:8020/user/bigdata/data/*')\n",
    ")"
   ]
  },
  {
   "cell_type": "code",
   "execution_count": 155,
   "id": "dd2666a6",
   "metadata": {},
   "outputs": [
    {
     "data": {
      "text/plain": [
       "9270"
      ]
     },
     "execution_count": 155,
     "metadata": {},
     "output_type": "execute_result"
    }
   ],
   "source": [
    "webpages.count()"
   ]
  },
  {
   "cell_type": "code",
   "execution_count": 349,
   "id": "22ded47d",
   "metadata": {},
   "outputs": [
    {
     "data": {
      "text/plain": [
       "11"
      ]
     },
     "execution_count": 349,
     "metadata": {},
     "output_type": "execute_result"
    }
   ],
   "source": [
    "# how many web pages containing <var/> tag ???\n",
    "webpages.filter(col(\"__var_\") > 0).count()"
   ]
  },
  {
   "cell_type": "code",
   "execution_count": 351,
   "id": "1d3b093b",
   "metadata": {},
   "outputs": [
    {
     "name": "stdout",
     "output_type": "stream",
     "text": [
      "+------------+-------------+\n",
      "|        year|  webpageLink|\n",
      "+------------+-------------+\n",
      "|{2015, null}|express.co.uk|\n",
      "|{2016, null}|express.co.uk|\n",
      "|{2013, null}|express.co.uk|\n",
      "|{2014, null}|express.co.uk|\n",
      "|{2017, null}|express.co.uk|\n",
      "|{2018, null}|express.co.uk|\n",
      "|{2019, null}|express.co.uk|\n",
      "|{2021, null}|express.co.uk|\n",
      "|{2020, null}|express.co.uk|\n",
      "|{2011, null}| mashable.com|\n",
      "|{2012, null}| mashable.com|\n",
      "+------------+-------------+\n",
      "\n"
     ]
    }
   ],
   "source": [
    "webpages.filter(col(\"__var_\") > 0).select(\"year\", \"webpageLink\").show()"
   ]
  },
  {
   "cell_type": "code",
   "execution_count": 152,
   "id": "98a56fcf",
   "metadata": {},
   "outputs": [
    {
     "name": "stdout",
     "output_type": "stream",
     "text": [
      "+------------+------------------+\n",
      "|        year|       avg(length)|\n",
      "+------------+------------------+\n",
      "|   {0, null}|  73430.1509054326|\n",
      "|{1999, null}|11139.333333333334|\n",
      "|{2000, null}|25337.046391752578|\n",
      "|{2001, null}|  30510.8779342723|\n",
      "|{2002, null}| 33851.74324324324|\n",
      "|{2003, null}|32244.170833333334|\n",
      "|{2004, null}| 33332.88537549407|\n",
      "|{2005, null}| 36630.15037593985|\n",
      "|{2006, null}|42634.963768115944|\n",
      "|{2007, null}|46880.277955271566|\n",
      "|{2008, null}|52271.563888888886|\n",
      "|{2009, null}| 59420.01315789474|\n",
      "|{2010, null}| 66500.84085510689|\n",
      "|{2011, null}| 69909.02428256071|\n",
      "|{2012, null}|  83480.9623059867|\n",
      "|{2013, null}| 88518.74556213018|\n",
      "|{2014, null}|  107014.982791587|\n",
      "|{2015, null}|122210.49227799228|\n",
      "|{2016, null}|138623.51356589148|\n",
      "|{2017, null}|161539.21100917432|\n",
      "+------------+------------------+\n",
      "only showing top 20 rows\n",
      "\n"
     ]
    }
   ],
   "source": [
    "# average webpage length per year\n",
    "\n",
    "webpages.groupBy(\"year\").avg(\"length\").sort(\"year\").show()"
   ]
  },
  {
   "cell_type": "code",
   "execution_count": 315,
   "id": "664dfcc5",
   "metadata": {},
   "outputs": [
    {
     "name": "stderr",
     "output_type": "stream",
     "text": [
      "                                                                                \r"
     ]
    }
   ],
   "source": [
    "webpages.groupBy(\"year\").agg(avg(\"length\").alias(\"av_length\")).sort(\"year\").createOrReplaceTempView(\"pagesLengthView\")\n",
    "\n",
    "df_pagesAvLength = spark.sql(\"select * from pagesLengthView\").toPandas()"
   ]
  },
  {
   "cell_type": "code",
   "execution_count": 159,
   "id": "45eff52b",
   "metadata": {},
   "outputs": [],
   "source": [
    "# <= 20.000 length\n",
    "\n",
    "shortPages = webpages.filter(col(\"length\") <= 20000)\n",
    "\n",
    "shortLengthPagesAvCounts = shortPages.groupBy(\"year\").agg(\n",
    "    avg(\"__a_\").alias(\"av_a\"),\n",
    "    avg(\"__abbr_\").alias(\"av_abbr\"),\n",
    "    avg(\"__acronym_\").alias(\"av_acronym\"),\n",
    "    avg(\"__address_\").alias(\"av_address\"),\n",
    "    avg(\"__applet_\").alias(\"av_applet\"),\n",
    "    avg(\"__area_\").alias(\"av_area\"),\n",
    "    avg(\"__article_\").alias(\"av_article\"),\n",
    "    avg(\"__aside_\").alias(\"av_aside\"),\n",
    "    avg(\"__audio_\").alias(\"av_audio\"),\n",
    "    avg(\"__b_\").alias(\"av_b\"),\n",
    "    avg(\"__base_\").alias(\"av_base\"),\n",
    "    avg(\"__basefont_\").alias(\"av_basefont\"),\n",
    "    avg(\"__bb_\").alias(\"av_bb\"),\n",
    "    avg(\"__bdo_\").alias(\"av_bdo\"),\n",
    "    avg(\"__big_\").alias(\"av_big\"),\n",
    "    avg(\"__blockquote_\").alias(\"av_blockquote\"),\n",
    "    avg(\"__body_\").alias(\"av_body\"),\n",
    "    avg(\"_br__\").alias(\"av_br\"),\n",
    "    avg(\"__button_\").alias(\"av_button\"),\n",
    "    avg(\"__canvas_\").alias(\"av_canvas\"),\n",
    "    avg(\"__caption_\").alias(\"av_caption\"),\n",
    "    avg(\"__center_\").alias(\"av_center\"),\n",
    "    avg(\"__cite_\").alias(\"av_cite\"),\n",
    "    avg(\"__code_\").alias(\"av_code\"),\n",
    "    avg(\"__col_\").alias(\"av_col\"),\n",
    "    avg(\"__colgroup_\").alias(\"av_colgroup\"),\n",
    "    avg(\"__command_\").alias(\"av_command\"),\n",
    "    avg(\"__datagrid_\").alias(\"av_datagrid\"),\n",
    "    avg(\"__datalist_\").alias(\"av_datalist\"),\n",
    "    avg(\"__dd_\").alias(\"av_dd\"),\n",
    "    avg(\"__del_\").alias(\"av_del\"),\n",
    "    avg(\"__details_\").alias(\"av_details\"),\n",
    "    avg(\"__dfn_\").alias(\"av_dfn\"),\n",
    "    avg(\"__dialog_\").alias(\"av_dialog\"),\n",
    "    avg(\"__dir_\").alias(\"av_dir\"),\n",
    "    avg(\"__div_\").alias(\"av_div\"),\n",
    "    avg(\"__dl_\").alias(\"av_dl\"),\n",
    "    avg(\"__dt_\").alias(\"av_dt\"),\n",
    "    avg(\"__em_\").alias(\"av_em\"),\n",
    "    avg(\"__embed_\").alias(\"av_embed\"),\n",
    "    avg(\"__eventsource_\").alias(\"av_eventsource\"),\n",
    "    avg(\"__fieldset_\").alias(\"av_fieldset\"),\n",
    "    avg(\"__figure_\").alias(\"av_figure\"),\n",
    "    avg(\"__font_\").alias(\"av_font\"),\n",
    "    avg(\"__footer_\").alias(\"av_footer\"),\n",
    "    avg(\"__form_\").alias(\"av_form\"),\n",
    "    avg(\"__frame_\").alias(\"av_frame\"),\n",
    "    avg(\"__frameset_\").alias(\"av_frameset\"),\n",
    "    avg(\"__h1_\").alias(\"av_h1\"),\n",
    "    avg(\"__h2_\").alias(\"av_h2\"),\n",
    "    avg(\"__h3_\").alias(\"av_h3\"),\n",
    "    avg(\"__h4_\").alias(\"av_h4\"),\n",
    "    avg(\"__h5_\").alias(\"av_h5\"),\n",
    "    avg(\"__h6_\").alias(\"av_h6\"),\n",
    "    avg(\"__head_\").alias(\"av_head\"),\n",
    "    avg(\"__header_\").alias(\"av_header\"),\n",
    "    avg(\"__hgroup_\").alias(\"av_hgroup\"),\n",
    "    avg(\"__hr_\").alias(\"av_hr\"),\n",
    "    avg(\"__html_\").alias(\"av_html\"),\n",
    "    avg(\"__i_\").alias(\"av_i\"),\n",
    "    avg(\"__iframe_\").alias(\"av_iframe\"),\n",
    "    avg(\"__img_\").alias(\"av_img\"),\n",
    "    avg(\"__input_\").alias(\"av_input\"),\n",
    "    avg(\"__ins_\").alias(\"av_ins\"),\n",
    "    avg(\"__isindex_\").alias(\"av_isindex\"),\n",
    "    avg(\"__kbd_\").alias(\"av_kbd\"),\n",
    "    avg(\"__keygen_\").alias(\"av_keygen\"),\n",
    "    avg(\"__label_\").alias(\"av_label\"),\n",
    "    avg(\"__legend_\").alias(\"av_legend\"),\n",
    "    avg(\"__li_\").alias(\"av_li\"),\n",
    "    avg(\"__link_\").alias(\"av_link\"),\n",
    "    avg(\"__map_\").alias(\"av_map\"),\n",
    "    avg(\"__mark_\").alias(\"av_mark\"),\n",
    "    avg(\"__menu_\").alias(\"av_menu\"),\n",
    "    avg(\"__meta_\").alias(\"av_meta\"),\n",
    "    avg(\"__meter_\").alias(\"av_meter\"),\n",
    "    avg(\"__nav_\").alias(\"av_nav\"),\n",
    "    avg(\"__noframes_\").alias(\"av_noframes\"),\n",
    "    avg(\"__noscript_\").alias(\"av_noscript\"),\n",
    "    avg(\"__object_\").alias(\"av_object\"),\n",
    "    avg(\"__ol_\").alias(\"av_ol\"),\n",
    "    avg(\"__optgroup_\").alias(\"av_optgroup\"),\n",
    "    avg(\"__option_\").alias(\"av_option\"),\n",
    "    avg(\"__output_\").alias(\"av_output\"),\n",
    "    avg(\"__p_\").alias(\"av_p\"),\n",
    "    avg(\"__param_\").alias(\"av_param\"),\n",
    "    avg(\"__pre_\").alias(\"av_pre\"),\n",
    "    avg(\"__progress_\").alias(\"av_progress\"),\n",
    "    avg(\"__q_\").alias(\"av_q\"),\n",
    "    avg(\"__rp_\").alias(\"av_rp\"),\n",
    "    avg(\"__rt_\").alias(\"av_rt\"),\n",
    "    avg(\"__ruby_\").alias(\"av_ruby\"),\n",
    "    avg(\"__s_\").alias(\"av_s\"),\n",
    "    avg(\"__samp_\").alias(\"av_samp\"),\n",
    "    avg(\"__script_\").alias(\"av_script\"),\n",
    "    avg(\"__section_\").alias(\"av_section\"),\n",
    "    avg(\"__select_\").alias(\"av_select\"),\n",
    "    avg(\"__small_\").alias(\"av_small\"),\n",
    "    avg(\"__source_\").alias(\"av_source\"),\n",
    "    avg(\"__span_\").alias(\"av_span\"),\n",
    "    avg(\"__strike_\").alias(\"av_strike\"),\n",
    "    avg(\"__strong_\").alias(\"av_strong\"),\n",
    "    avg(\"__style_\").alias(\"av_style\"),\n",
    "    avg(\"__sub_\").alias(\"av_sub\"),\n",
    "    avg(\"__sup_\").alias(\"av_sup\"),\n",
    "    avg(\"__table_\").alias(\"av_table\"),\n",
    "    avg(\"__tbody_\").alias(\"av_tbody\"),\n",
    "    avg(\"__td_\").alias(\"av_td\"),\n",
    "    avg(\"__textarea_\").alias(\"av_textarea\"),\n",
    "    avg(\"__tfoot_\").alias(\"av_tfoot\"),\n",
    "    avg(\"__th_\").alias(\"av_th\"),\n",
    "    avg(\"__thead_\").alias(\"av_thead\"),\n",
    "    avg(\"__time_\").alias(\"av_time\"),\n",
    "    avg(\"__title_\").alias(\"av_title\"),\n",
    "    avg(\"__tr_\").alias(\"av_tr\"),\n",
    "    avg(\"__track_\").alias(\"av_track\"),\n",
    "    avg(\"__tt_\").alias(\"av_tt\"),\n",
    "    avg(\"__u_\").alias(\"av_u\"),\n",
    "    avg(\"__ul_\").alias(\"av_ul\"),\n",
    "    avg(\"__var_\").alias(\"av_var\"),\n",
    "    avg(\"__video_\").alias(\"av_video\"),\n",
    "    avg(\"__wbr__\").alias(\"av_wbr\")\n",
    "    \n",
    ").sort(\"year\")"
   ]
  },
  {
   "cell_type": "code",
   "execution_count": 160,
   "id": "65e58292",
   "metadata": {},
   "outputs": [],
   "source": [
    "# > 20.000 length AND < 100.000 length\n",
    "\n",
    "averageLengthPages = webpages.filter(col(\"length\") < 100000).filter(col(\"length\") > 20000)\n",
    "\n",
    "avLengthPagesAvCounts = averageLengthPages.groupBy(\"year\").agg(\n",
    "    avg(\"__a_\").alias(\"av_a\"),\n",
    "    avg(\"__abbr_\").alias(\"av_abbr\"),\n",
    "    avg(\"__acronym_\").alias(\"av_acronym\"),\n",
    "    avg(\"__address_\").alias(\"av_address\"),\n",
    "    avg(\"__applet_\").alias(\"av_applet\"),\n",
    "    avg(\"__area_\").alias(\"av_area\"),\n",
    "    avg(\"__article_\").alias(\"av_article\"),\n",
    "    avg(\"__aside_\").alias(\"av_aside\"),\n",
    "    avg(\"__audio_\").alias(\"av_audio\"),\n",
    "    avg(\"__b_\").alias(\"av_b\"),\n",
    "    avg(\"__base_\").alias(\"av_base\"),\n",
    "    avg(\"__basefont_\").alias(\"av_basefont\"),\n",
    "    avg(\"__bb_\").alias(\"av_bb\"),\n",
    "    avg(\"__bdo_\").alias(\"av_bdo\"),\n",
    "    avg(\"__big_\").alias(\"av_big\"),\n",
    "    avg(\"__blockquote_\").alias(\"av_blockquote\"),\n",
    "    avg(\"__body_\").alias(\"av_body\"),\n",
    "    avg(\"_br__\").alias(\"av_br\"),\n",
    "    avg(\"__button_\").alias(\"av_button\"),\n",
    "    avg(\"__canvas_\").alias(\"av_canvas\"),\n",
    "    avg(\"__caption_\").alias(\"av_caption\"),\n",
    "    avg(\"__center_\").alias(\"av_center\"),\n",
    "    avg(\"__cite_\").alias(\"av_cite\"),\n",
    "    avg(\"__code_\").alias(\"av_code\"),\n",
    "    avg(\"__col_\").alias(\"av_col\"),\n",
    "    avg(\"__colgroup_\").alias(\"av_colgroup\"),\n",
    "    avg(\"__command_\").alias(\"av_command\"),\n",
    "    avg(\"__datagrid_\").alias(\"av_datagrid\"),\n",
    "    avg(\"__datalist_\").alias(\"av_datalist\"),\n",
    "    avg(\"__dd_\").alias(\"av_dd\"),\n",
    "    avg(\"__del_\").alias(\"av_del\"),\n",
    "    avg(\"__details_\").alias(\"av_details\"),\n",
    "    avg(\"__dfn_\").alias(\"av_dfn\"),\n",
    "    avg(\"__dialog_\").alias(\"av_dialog\"),\n",
    "    avg(\"__dir_\").alias(\"av_dir\"),\n",
    "    avg(\"__div_\").alias(\"av_div\"),\n",
    "    avg(\"__dl_\").alias(\"av_dl\"),\n",
    "    avg(\"__dt_\").alias(\"av_dt\"),\n",
    "    avg(\"__em_\").alias(\"av_em\"),\n",
    "    avg(\"__embed_\").alias(\"av_embed\"),\n",
    "    avg(\"__eventsource_\").alias(\"av_eventsource\"),\n",
    "    avg(\"__fieldset_\").alias(\"av_fieldset\"),\n",
    "    avg(\"__figure_\").alias(\"av_figure\"),\n",
    "    avg(\"__font_\").alias(\"av_font\"),\n",
    "    avg(\"__footer_\").alias(\"av_footer\"),\n",
    "    avg(\"__form_\").alias(\"av_form\"),\n",
    "    avg(\"__frame_\").alias(\"av_frame\"),\n",
    "    avg(\"__frameset_\").alias(\"av_frameset\"),\n",
    "    avg(\"__h1_\").alias(\"av_h1\"),\n",
    "    avg(\"__h2_\").alias(\"av_h2\"),\n",
    "    avg(\"__h3_\").alias(\"av_h3\"),\n",
    "    avg(\"__h4_\").alias(\"av_h4\"),\n",
    "    avg(\"__h5_\").alias(\"av_h5\"),\n",
    "    avg(\"__h6_\").alias(\"av_h6\"),\n",
    "    avg(\"__head_\").alias(\"av_head\"),\n",
    "    avg(\"__header_\").alias(\"av_header\"),\n",
    "    avg(\"__hgroup_\").alias(\"av_hgroup\"),\n",
    "    avg(\"__hr_\").alias(\"av_hr\"),\n",
    "    avg(\"__html_\").alias(\"av_html\"),\n",
    "    avg(\"__i_\").alias(\"av_i\"),\n",
    "    avg(\"__iframe_\").alias(\"av_iframe\"),\n",
    "    avg(\"__img_\").alias(\"av_img\"),\n",
    "    avg(\"__input_\").alias(\"av_input\"),\n",
    "    avg(\"__ins_\").alias(\"av_ins\"),\n",
    "    avg(\"__isindex_\").alias(\"av_isindex\"),\n",
    "    avg(\"__kbd_\").alias(\"av_kbd\"),\n",
    "    avg(\"__keygen_\").alias(\"av_keygen\"),\n",
    "    avg(\"__label_\").alias(\"av_label\"),\n",
    "    avg(\"__legend_\").alias(\"av_legend\"),\n",
    "    avg(\"__li_\").alias(\"av_li\"),\n",
    "    avg(\"__link_\").alias(\"av_link\"),\n",
    "    avg(\"__map_\").alias(\"av_map\"),\n",
    "    avg(\"__mark_\").alias(\"av_mark\"),\n",
    "    avg(\"__menu_\").alias(\"av_menu\"),\n",
    "    avg(\"__meta_\").alias(\"av_meta\"),\n",
    "    avg(\"__meter_\").alias(\"av_meter\"),\n",
    "    avg(\"__nav_\").alias(\"av_nav\"),\n",
    "    avg(\"__noframes_\").alias(\"av_noframes\"),\n",
    "    avg(\"__noscript_\").alias(\"av_noscript\"),\n",
    "    avg(\"__object_\").alias(\"av_object\"),\n",
    "    avg(\"__ol_\").alias(\"av_ol\"),\n",
    "    avg(\"__optgroup_\").alias(\"av_optgroup\"),\n",
    "    avg(\"__option_\").alias(\"av_option\"),\n",
    "    avg(\"__output_\").alias(\"av_output\"),\n",
    "    avg(\"__p_\").alias(\"av_p\"),\n",
    "    avg(\"__param_\").alias(\"av_param\"),\n",
    "    avg(\"__pre_\").alias(\"av_pre\"),\n",
    "    avg(\"__progress_\").alias(\"av_progress\"),\n",
    "    avg(\"__q_\").alias(\"av_q\"),\n",
    "    avg(\"__rp_\").alias(\"av_rp\"),\n",
    "    avg(\"__rt_\").alias(\"av_rt\"),\n",
    "    avg(\"__ruby_\").alias(\"av_ruby\"),\n",
    "    avg(\"__s_\").alias(\"av_s\"),\n",
    "    avg(\"__samp_\").alias(\"av_samp\"),\n",
    "    avg(\"__script_\").alias(\"av_script\"),\n",
    "    avg(\"__section_\").alias(\"av_section\"),\n",
    "    avg(\"__select_\").alias(\"av_select\"),\n",
    "    avg(\"__small_\").alias(\"av_small\"),\n",
    "    avg(\"__source_\").alias(\"av_source\"),\n",
    "    avg(\"__span_\").alias(\"av_span\"),\n",
    "    avg(\"__strike_\").alias(\"av_strike\"),\n",
    "    avg(\"__strong_\").alias(\"av_strong\"),\n",
    "    avg(\"__style_\").alias(\"av_style\"),\n",
    "    avg(\"__sub_\").alias(\"av_sub\"),\n",
    "    avg(\"__sup_\").alias(\"av_sup\"),\n",
    "    avg(\"__table_\").alias(\"av_table\"),\n",
    "    avg(\"__tbody_\").alias(\"av_tbody\"),\n",
    "    avg(\"__td_\").alias(\"av_td\"),\n",
    "    avg(\"__textarea_\").alias(\"av_textarea\"),\n",
    "    avg(\"__tfoot_\").alias(\"av_tfoot\"),\n",
    "    avg(\"__th_\").alias(\"av_th\"),\n",
    "    avg(\"__thead_\").alias(\"av_thead\"),\n",
    "    avg(\"__time_\").alias(\"av_time\"),\n",
    "    avg(\"__title_\").alias(\"av_title\"),\n",
    "    avg(\"__tr_\").alias(\"av_tr\"),\n",
    "    avg(\"__track_\").alias(\"av_track\"),\n",
    "    avg(\"__tt_\").alias(\"av_tt\"),\n",
    "    avg(\"__u_\").alias(\"av_u\"),\n",
    "    avg(\"__ul_\").alias(\"av_ul\"),\n",
    "    avg(\"__var_\").alias(\"av_var\"),\n",
    "    avg(\"__video_\").alias(\"av_video\"),\n",
    "    avg(\"__wbr__\").alias(\"av_wbr\")\n",
    "    \n",
    ").sort(\"year\")"
   ]
  },
  {
   "cell_type": "code",
   "execution_count": 161,
   "id": "712b9469",
   "metadata": {},
   "outputs": [],
   "source": [
    "# >= 100.000 length\n",
    "\n",
    "longPages = webpages.filter(col(\"length\") >= 100000)\n",
    "\n",
    "longLengthPagesAvCounts = longPages.groupBy(\"year\").agg(\n",
    "    avg(\"__a_\").alias(\"av_a\"),\n",
    "    avg(\"__abbr_\").alias(\"av_abbr\"),\n",
    "    avg(\"__acronym_\").alias(\"av_acronym\"),\n",
    "    avg(\"__address_\").alias(\"av_address\"),\n",
    "    avg(\"__applet_\").alias(\"av_applet\"),\n",
    "    avg(\"__area_\").alias(\"av_area\"),\n",
    "    avg(\"__article_\").alias(\"av_article\"),\n",
    "    avg(\"__aside_\").alias(\"av_aside\"),\n",
    "    avg(\"__audio_\").alias(\"av_audio\"),\n",
    "    avg(\"__b_\").alias(\"av_b\"),\n",
    "    avg(\"__base_\").alias(\"av_base\"),\n",
    "    avg(\"__basefont_\").alias(\"av_basefont\"),\n",
    "    avg(\"__bb_\").alias(\"av_bb\"),\n",
    "    avg(\"__bdo_\").alias(\"av_bdo\"),\n",
    "    avg(\"__big_\").alias(\"av_big\"),\n",
    "    avg(\"__blockquote_\").alias(\"av_blockquote\"),\n",
    "    avg(\"__body_\").alias(\"av_body\"),\n",
    "    avg(\"_br__\").alias(\"av_br\"),\n",
    "    avg(\"__button_\").alias(\"av_button\"),\n",
    "    avg(\"__canvas_\").alias(\"av_canvas\"),\n",
    "    avg(\"__caption_\").alias(\"av_caption\"),\n",
    "    avg(\"__center_\").alias(\"av_center\"),\n",
    "    avg(\"__cite_\").alias(\"av_cite\"),\n",
    "    avg(\"__code_\").alias(\"av_code\"),\n",
    "    avg(\"__col_\").alias(\"av_col\"),\n",
    "    avg(\"__colgroup_\").alias(\"av_colgroup\"),\n",
    "    avg(\"__command_\").alias(\"av_command\"),\n",
    "    avg(\"__datagrid_\").alias(\"av_datagrid\"),\n",
    "    avg(\"__datalist_\").alias(\"av_datalist\"),\n",
    "    avg(\"__dd_\").alias(\"av_dd\"),\n",
    "    avg(\"__del_\").alias(\"av_del\"),\n",
    "    avg(\"__details_\").alias(\"av_details\"),\n",
    "    avg(\"__dfn_\").alias(\"av_dfn\"),\n",
    "    avg(\"__dialog_\").alias(\"av_dialog\"),\n",
    "    avg(\"__dir_\").alias(\"av_dir\"),\n",
    "    avg(\"__div_\").alias(\"av_div\"),\n",
    "    avg(\"__dl_\").alias(\"av_dl\"),\n",
    "    avg(\"__dt_\").alias(\"av_dt\"),\n",
    "    avg(\"__em_\").alias(\"av_em\"),\n",
    "    avg(\"__embed_\").alias(\"av_embed\"),\n",
    "    avg(\"__eventsource_\").alias(\"av_eventsource\"),\n",
    "    avg(\"__fieldset_\").alias(\"av_fieldset\"),\n",
    "    avg(\"__figure_\").alias(\"av_figure\"),\n",
    "    avg(\"__font_\").alias(\"av_font\"),\n",
    "    avg(\"__footer_\").alias(\"av_footer\"),\n",
    "    avg(\"__form_\").alias(\"av_form\"),\n",
    "    avg(\"__frame_\").alias(\"av_frame\"),\n",
    "    avg(\"__frameset_\").alias(\"av_frameset\"),\n",
    "    avg(\"__h1_\").alias(\"av_h1\"),\n",
    "    avg(\"__h2_\").alias(\"av_h2\"),\n",
    "    avg(\"__h3_\").alias(\"av_h3\"),\n",
    "    avg(\"__h4_\").alias(\"av_h4\"),\n",
    "    avg(\"__h5_\").alias(\"av_h5\"),\n",
    "    avg(\"__h6_\").alias(\"av_h6\"),\n",
    "    avg(\"__head_\").alias(\"av_head\"),\n",
    "    avg(\"__header_\").alias(\"av_header\"),\n",
    "    avg(\"__hgroup_\").alias(\"av_hgroup\"),\n",
    "    avg(\"__hr_\").alias(\"av_hr\"),\n",
    "    avg(\"__html_\").alias(\"av_html\"),\n",
    "    avg(\"__i_\").alias(\"av_i\"),\n",
    "    avg(\"__iframe_\").alias(\"av_iframe\"),\n",
    "    avg(\"__img_\").alias(\"av_img\"),\n",
    "    avg(\"__input_\").alias(\"av_input\"),\n",
    "    avg(\"__ins_\").alias(\"av_ins\"),\n",
    "    avg(\"__isindex_\").alias(\"av_isindex\"),\n",
    "    avg(\"__kbd_\").alias(\"av_kbd\"),\n",
    "    avg(\"__keygen_\").alias(\"av_keygen\"),\n",
    "    avg(\"__label_\").alias(\"av_label\"),\n",
    "    avg(\"__legend_\").alias(\"av_legend\"),\n",
    "    avg(\"__li_\").alias(\"av_li\"),\n",
    "    avg(\"__link_\").alias(\"av_link\"),\n",
    "    avg(\"__map_\").alias(\"av_map\"),\n",
    "    avg(\"__mark_\").alias(\"av_mark\"),\n",
    "    avg(\"__menu_\").alias(\"av_menu\"),\n",
    "    avg(\"__meta_\").alias(\"av_meta\"),\n",
    "    avg(\"__meter_\").alias(\"av_meter\"),\n",
    "    avg(\"__nav_\").alias(\"av_nav\"),\n",
    "    avg(\"__noframes_\").alias(\"av_noframes\"),\n",
    "    avg(\"__noscript_\").alias(\"av_noscript\"),\n",
    "    avg(\"__object_\").alias(\"av_object\"),\n",
    "    avg(\"__ol_\").alias(\"av_ol\"),\n",
    "    avg(\"__optgroup_\").alias(\"av_optgroup\"),\n",
    "    avg(\"__option_\").alias(\"av_option\"),\n",
    "    avg(\"__output_\").alias(\"av_output\"),\n",
    "    avg(\"__p_\").alias(\"av_p\"),\n",
    "    avg(\"__param_\").alias(\"av_param\"),\n",
    "    avg(\"__pre_\").alias(\"av_pre\"),\n",
    "    avg(\"__progress_\").alias(\"av_progress\"),\n",
    "    avg(\"__q_\").alias(\"av_q\"),\n",
    "    avg(\"__rp_\").alias(\"av_rp\"),\n",
    "    avg(\"__rt_\").alias(\"av_rt\"),\n",
    "    avg(\"__ruby_\").alias(\"av_ruby\"),\n",
    "    avg(\"__s_\").alias(\"av_s\"),\n",
    "    avg(\"__samp_\").alias(\"av_samp\"),\n",
    "    avg(\"__script_\").alias(\"av_script\"),\n",
    "    avg(\"__section_\").alias(\"av_section\"),\n",
    "    avg(\"__select_\").alias(\"av_select\"),\n",
    "    avg(\"__small_\").alias(\"av_small\"),\n",
    "    avg(\"__source_\").alias(\"av_source\"),\n",
    "    avg(\"__span_\").alias(\"av_span\"),\n",
    "    avg(\"__strike_\").alias(\"av_strike\"),\n",
    "    avg(\"__strong_\").alias(\"av_strong\"),\n",
    "    avg(\"__style_\").alias(\"av_style\"),\n",
    "    avg(\"__sub_\").alias(\"av_sub\"),\n",
    "    avg(\"__sup_\").alias(\"av_sup\"),\n",
    "    avg(\"__table_\").alias(\"av_table\"),\n",
    "    avg(\"__tbody_\").alias(\"av_tbody\"),\n",
    "    avg(\"__td_\").alias(\"av_td\"),\n",
    "    avg(\"__textarea_\").alias(\"av_textarea\"),\n",
    "    avg(\"__tfoot_\").alias(\"av_tfoot\"),\n",
    "    avg(\"__th_\").alias(\"av_th\"),\n",
    "    avg(\"__thead_\").alias(\"av_thead\"),\n",
    "    avg(\"__time_\").alias(\"av_time\"),\n",
    "    avg(\"__title_\").alias(\"av_title\"),\n",
    "    avg(\"__tr_\").alias(\"av_tr\"),\n",
    "    avg(\"__track_\").alias(\"av_track\"),\n",
    "    avg(\"__tt_\").alias(\"av_tt\"),\n",
    "    avg(\"__u_\").alias(\"av_u\"),\n",
    "    avg(\"__ul_\").alias(\"av_ul\"),\n",
    "    avg(\"__var_\").alias(\"av_var\"),\n",
    "    avg(\"__video_\").alias(\"av_video\"),\n",
    "    avg(\"__wbr__\").alias(\"av_wbr\")\n",
    "    \n",
    "    \n",
    ").sort(\"year\")"
   ]
  },
  {
   "cell_type": "code",
   "execution_count": 164,
   "id": "9d99d762",
   "metadata": {},
   "outputs": [],
   "source": [
    "longLengthPagesAvCounts.createOrReplaceTempView(\"average_tag_count_per_year_longLengthPages\")\n"
   ]
  },
  {
   "cell_type": "code",
   "execution_count": 165,
   "id": "5bace914",
   "metadata": {},
   "outputs": [],
   "source": [
    "avLengthPagesAvCounts.createOrReplaceTempView(\"average_tag_count_per_year_mediumLengthPages\")"
   ]
  },
  {
   "cell_type": "code",
   "execution_count": 166,
   "id": "5f5340b9",
   "metadata": {},
   "outputs": [],
   "source": [
    "shortLengthPagesAvCounts.createOrReplaceTempView(\"average_tag_count_per_year_shortLengthPages\")"
   ]
  },
  {
   "cell_type": "code",
   "execution_count": 167,
   "id": "67e859f0",
   "metadata": {},
   "outputs": [
    {
     "name": "stdout",
     "output_type": "stream",
     "text": [
      "+--------------------+\n",
      "|              av_img|\n",
      "+--------------------+\n",
      "|                 0.0|\n",
      "|                 0.0|\n",
      "|                 0.0|\n",
      "|                 0.0|\n",
      "|                 0.0|\n",
      "|                 0.0|\n",
      "|                 0.0|\n",
      "|0.010638297872340425|\n",
      "| 0.02247191011235955|\n",
      "|0.020833333333333332|\n",
      "|             0.03125|\n",
      "|                 0.0|\n",
      "|                 0.0|\n",
      "|0.013888888888888888|\n",
      "|                 0.0|\n",
      "| 0.01639344262295082|\n",
      "|                 0.0|\n",
      "|                 0.0|\n",
      "|                 0.0|\n",
      "|                 0.0|\n",
      "+--------------------+\n",
      "only showing top 20 rows\n",
      "\n"
     ]
    }
   ],
   "source": [
    "spark.sql(\"select * from average_tag_count_per_year_shortLengthPages\").select(\"av_img\").show()"
   ]
  },
  {
   "cell_type": "code",
   "execution_count": 63,
   "id": "9b2752d2",
   "metadata": {},
   "outputs": [
    {
     "name": "stdout",
     "output_type": "stream",
     "text": [
      "+------------------+\n",
      "|       avg(length)|\n",
      "+------------------+\n",
      "|108831.02695652175|\n",
      "+------------------+\n",
      "\n"
     ]
    }
   ],
   "source": [
    "webpages.agg({'length': 'avg'}).show()"
   ]
  },
  {
   "cell_type": "code",
   "execution_count": 68,
   "id": "f3fcca0e",
   "metadata": {},
   "outputs": [
    {
     "name": "stdout",
     "output_type": "stream",
     "text": [
      "+------------------+\n",
      "|       avg(length)|\n",
      "+------------------+\n",
      "|13229.511764705883|\n",
      "+------------------+\n",
      "\n"
     ]
    }
   ],
   "source": [
    "# average length of short pages\n",
    "\n",
    "shortPages.agg({'length': 'avg'}).show()"
   ]
  },
  {
   "cell_type": "code",
   "execution_count": 69,
   "id": "510eae1e",
   "metadata": {},
   "outputs": [
    {
     "name": "stdout",
     "output_type": "stream",
     "text": [
      "+-----------------+\n",
      "|      avg(length)|\n",
      "+-----------------+\n",
      "|54128.83822363204|\n",
      "+-----------------+\n",
      "\n"
     ]
    }
   ],
   "source": [
    "# average length of medium-length pages\n",
    "\n",
    "averageLengthPages.agg({'length': 'avg'}).show()"
   ]
  },
  {
   "cell_type": "code",
   "execution_count": 70,
   "id": "1b499b73",
   "metadata": {},
   "outputs": [
    {
     "name": "stdout",
     "output_type": "stream",
     "text": [
      "+-----------------+\n",
      "|      avg(length)|\n",
      "+-----------------+\n",
      "|254015.5407725322|\n",
      "+-----------------+\n",
      "\n"
     ]
    }
   ],
   "source": [
    "# average length of long pages\n",
    "\n",
    "longPages.agg({'length': 'avg'}).show()"
   ]
  },
  {
   "cell_type": "code",
   "execution_count": 169,
   "id": "7ffa4de7",
   "metadata": {},
   "outputs": [],
   "source": [
    "# TOP SHORT webpages\n",
    "\n",
    "webpages.sort(col(\"length\").asc()).select(\"webpageLink\", \"length\", \"year\", \"link\").dropDuplicates(['webpageLink']).sort(col(\"length\").asc()).createOrReplaceTempView(\"short_pages\")\n",
    "\n",
    "\n",
    "\n",
    "\n"
   ]
  },
  {
   "cell_type": "code",
   "execution_count": 173,
   "id": "de1d991e",
   "metadata": {},
   "outputs": [
    {
     "name": "stderr",
     "output_type": "stream",
     "text": [
      "[Stage 261:==================================================>  (191 + 4) / 200]\r"
     ]
    },
    {
     "name": "stdout",
     "output_type": "stream",
     "text": [
      "+----------------+------+------------+--------------------+\n",
      "|     webpageLink|length|        year|                link|\n",
      "+----------------+------+------------+--------------------+\n",
      "|        cnnic.cn|    50|{2010, null}|https://web.archi...|\n",
      "|      docker.com|    52|{2007, null}|https://web.archi...|\n",
      "|     miit.gov.cn|    82|{2014, null}|https://web.archi...|\n",
      "|     reverso.net|   104|{2006, null}|https://web.archi...|\n",
      "| advertising.com|   105|{2007, null}|https://web.archi...|\n",
      "|steampowered.com|   105|{2006, null}|https://web.archi...|\n",
      "|     hotstar.com|   111|{2002, null}|https://web.archi...|\n",
      "|  sahibinden.com|   119|{2002, null}|https://web.archi...|\n",
      "|            6.cn|   126|{2005, null}|https://web.archi...|\n",
      "|    onetrust.com|   127|{2014, null}|https://web.archi...|\n",
      "|          360.cn|   128|{2003, null}|https://web.archi...|\n",
      "|      uol.com.br|   128|{2002, null}|https://web.archi...|\n",
      "|    elsevier.com|   131|{2004, null}|https://web.archi...|\n",
      "|         mama.cn|   138|{2011, null}|https://web.archi...|\n",
      "|    coursera.org|   144|{2012, null}|https://web.archi...|\n",
      "|          jd.com|   145|{2002, null}|https://web.archi...|\n",
      "|     tencent.com|   149|{2011, null}|https://web.archi...|\n",
      "| khanacademy.org|   154|{2007, null}|https://web.archi...|\n",
      "|      www.gov.uk|   156|{2003, null}|https://web.archi...|\n",
      "|      criteo.com|   163|{2011, null}|https://web.archi...|\n",
      "+----------------+------+------------+--------------------+\n",
      "only showing top 20 rows\n",
      "\n"
     ]
    },
    {
     "name": "stderr",
     "output_type": "stream",
     "text": [
      "\r",
      "                                                                                \r"
     ]
    }
   ],
   "source": [
    "spark.sql(\"select * from short_pages\").show()"
   ]
  },
  {
   "cell_type": "code",
   "execution_count": 170,
   "id": "0617c5e2",
   "metadata": {},
   "outputs": [],
   "source": [
    "# TOP LONG webpages\n",
    "\n",
    "webpages.sort(col(\"length\").desc()).select(\"webpageLink\", \"length\", \"year\", \"link\").dropDuplicates(['webpageLink']).sort(col(\"length\").desc()).createOrReplaceTempView(\"long_pages\")"
   ]
  },
  {
   "cell_type": "code",
   "execution_count": 174,
   "id": "3c89d931",
   "metadata": {},
   "outputs": [
    {
     "name": "stderr",
     "output_type": "stream",
     "text": [
      "[Stage 265:============================================>        (167 + 4) / 200]\r"
     ]
    },
    {
     "name": "stdout",
     "output_type": "stream",
     "text": [
      "+---------------+-------+------------+\n",
      "|    webpageLink| length|        year|\n",
      "+---------------+-------+------------+\n",
      "|     jmw.com.cn|3147822|{2021, null}|\n",
      "|     allegro.pl|2639957|{2020, null}|\n",
      "|     opensea.io|2560538|{2019, null}|\n",
      "|  aljazeera.com|2425943|{2021, null}|\n",
      "|   flipkart.com|2220556|{2021, null}|\n",
      "|       scmp.com|2210676|{2021, null}|\n",
      "|        cnn.com|2061486|{2018, null}|\n",
      "|    nytimes.com|2053475|{2020, null}|\n",
      "|  walgreens.com|1885306|{2020, null}|\n",
      "|   trendyol.com|1874076|{2018, null}|\n",
      "|tripadvisor.com|1734808|{2019, null}|\n",
      "|      nymag.com|1713391|{2021, null}|\n",
      "|    audible.com|1649510|{2021, null}|\n",
      "|      houzz.com|1647372|{2021, null}|\n",
      "|   coursera.org|1576667|{2016, null}|\n",
      "|fastcompany.com|1540185|{2021, null}|\n",
      "|   autodesk.com|1395225|{2018, null}|\n",
      "|         go.com|1316388|{2017, null}|\n",
      "|      alexa.com|1308152|{2021, null}|\n",
      "|   euronews.com|1254791|{2018, null}|\n",
      "+---------------+-------+------------+\n",
      "only showing top 20 rows\n",
      "\n"
     ]
    },
    {
     "name": "stderr",
     "output_type": "stream",
     "text": [
      "\r",
      "[Stage 265:==================================================>  (192 + 5) / 200]\r",
      "\r",
      "                                                                                \r"
     ]
    }
   ],
   "source": [
    "spark.sql(\"select * from long_pages\").show()"
   ]
  },
  {
   "cell_type": "code",
   "execution_count": 178,
   "id": "7430e0de",
   "metadata": {},
   "outputs": [],
   "source": [
    "# PLOTS\n",
    "\n",
    "import seaborn as sns\n",
    "\n"
   ]
  },
  {
   "cell_type": "code",
   "execution_count": 318,
   "id": "269c3dca",
   "metadata": {},
   "outputs": [
    {
     "name": "stderr",
     "output_type": "stream",
     "text": [
      "/usr/local/spark/python/pyspark/sql/pandas/conversion.py:186: PerformanceWarning: DataFrame is highly fragmented.  This is usually the result of calling `frame.insert` many times, which has poor performance.  Consider joining all columns at once using pd.concat(axis=1) instead.  To get a de-fragmented frame, use `newframe = frame.copy()`\n",
      "  df[column_name] = series\n",
      "/home/vagrant/.local/lib/python3.7/site-packages/ipykernel_launcher.py:7: SettingWithCopyWarning: \n",
      "A value is trying to be set on a copy of a slice from a DataFrame\n",
      "\n",
      "See the caveats in the documentation: https://pandas.pydata.org/pandas-docs/stable/user_guide/indexing.html#returning-a-view-versus-a-copy\n",
      "  import sys\n",
      "/home/vagrant/.local/lib/python3.7/site-packages/ipykernel_launcher.py:10: SettingWithCopyWarning: \n",
      "A value is trying to be set on a copy of a slice from a DataFrame\n",
      "\n",
      "See the caveats in the documentation: https://pandas.pydata.org/pandas-docs/stable/user_guide/indexing.html#returning-a-view-versus-a-copy\n",
      "  # Remove the CWD from sys.path while we load stuff.\n",
      "/home/vagrant/.local/lib/python3.7/site-packages/ipykernel_launcher.py:13: SettingWithCopyWarning: \n",
      "A value is trying to be set on a copy of a slice from a DataFrame\n",
      "\n",
      "See the caveats in the documentation: https://pandas.pydata.org/pandas-docs/stable/user_guide/indexing.html#returning-a-view-versus-a-copy\n",
      "  del sys.path[0]\n",
      "/home/vagrant/.local/lib/python3.7/site-packages/ipykernel_launcher.py:15: SettingWithCopyWarning: \n",
      "A value is trying to be set on a copy of a slice from a DataFrame\n",
      "\n",
      "See the caveats in the documentation: https://pandas.pydata.org/pandas-docs/stable/user_guide/indexing.html#returning-a-view-versus-a-copy\n",
      "  from ipykernel import kernelapp as app\n"
     ]
    }
   ],
   "source": [
    "df_shortPages = spark.sql(\"select * from average_tag_count_per_year_shortLengthPages\").toPandas()\n",
    "df_mediumPages = spark.sql(\"select * from average_tag_count_per_year_mediumLengthPages\").toPandas()\n",
    "df_longPages = spark.sql(\"select * from average_tag_count_per_year_longLengthPages\").toPandas()\n",
    "\n",
    "\n",
    "for i in range(0,len(df_shortPages)):\n",
    "    df_shortPages['year'][i] = df_shortPages['year'][i][0]\n",
    "\n",
    "for i in range(0,len(df_mediumPages)):\n",
    "    df_mediumPages['year'][i] = df_mediumPages['year'][i][0]\n",
    "    \n",
    "for i in range(0,len(df_longPages)):\n",
    "    df_longPages['year'][i] = df_longPages['year'][i][0]\n",
    "for i in range(0,len(df_pagesAvLength)):\n",
    "    df_pagesAvLength['year'][i] = df_pagesAvLength['year'][i][0]\n",
    "    "
   ]
  },
  {
   "cell_type": "code",
   "execution_count": 206,
   "id": "2d4cab62",
   "metadata": {},
   "outputs": [],
   "source": [
    "# deleting first row; caintaining year = 0\n",
    "\n",
    "df_shortPages = df_shortPages.iloc[1: , :]\n",
    "df_mediumPages = df_mediumPages.iloc[1: , :]\n",
    "df_longPages = df_longPages.iloc[1: , :]\n",
    "df_pagesAvLength = df_pagesAvLength.iloc[1: , :]"
   ]
  },
  {
   "cell_type": "code",
   "execution_count": 307,
   "id": "ee2a699b",
   "metadata": {},
   "outputs": [],
   "source": [
    "frames = [df_shortPages, df_mediumPages, df_longPages]\n",
    "\n",
    "df2 = pd.concat(frames)"
   ]
  },
  {
   "cell_type": "code",
   "execution_count": 308,
   "id": "086703e0",
   "metadata": {},
   "outputs": [
    {
     "name": "stderr",
     "output_type": "stream",
     "text": [
      "/home/vagrant/.local/lib/python3.7/site-packages/ipykernel_launcher.py:11: PerformanceWarning: DataFrame is highly fragmented.  This is usually the result of calling `frame.insert` many times, which has poor performance.  Consider joining all columns at once using pd.concat(axis=1) instead.  To get a de-fragmented frame, use `newframe = frame.copy()`\n",
      "  # This is added back by InteractiveShellApp.init_path()\n"
     ]
    }
   ],
   "source": [
    "aux = list()\n",
    "for i in range(0, len(df_shortPages)):\n",
    "    aux.append(\"short\")\n",
    "\n",
    "for i in range( 0,len(df_mediumPages)):\n",
    "    aux.append(\"medium\")\n",
    "\n",
    "for i in range( 0, len(df_longPages)):\n",
    "    aux.append(\"long\")\n",
    "\n",
    "df2[\"len_cat\"] = aux\n",
    "\n",
    "df2[\"len_cat\"] = df2[\"len_cat\"].astype('category')"
   ]
  },
  {
   "cell_type": "code",
   "execution_count": 310,
   "id": "56b450ff",
   "metadata": {},
   "outputs": [],
   "source": [
    "df3 = df2.reset_index()"
   ]
  },
  {
   "cell_type": "code",
   "execution_count": 323,
   "id": "bcb0488f",
   "metadata": {},
   "outputs": [
    {
     "data": {
      "text/html": [
       "<div>\n",
       "<style scoped>\n",
       "    .dataframe tbody tr th:only-of-type {\n",
       "        vertical-align: middle;\n",
       "    }\n",
       "\n",
       "    .dataframe tbody tr th {\n",
       "        vertical-align: top;\n",
       "    }\n",
       "\n",
       "    .dataframe thead th {\n",
       "        text-align: right;\n",
       "    }\n",
       "</style>\n",
       "<table border=\"1\" class=\"dataframe\">\n",
       "  <thead>\n",
       "    <tr style=\"text-align: right;\">\n",
       "      <th></th>\n",
       "      <th>index</th>\n",
       "      <th>year</th>\n",
       "      <th>av_a</th>\n",
       "      <th>av_abbr</th>\n",
       "      <th>av_acronym</th>\n",
       "      <th>av_address</th>\n",
       "      <th>av_applet</th>\n",
       "      <th>av_area</th>\n",
       "      <th>av_article</th>\n",
       "      <th>av_aside</th>\n",
       "      <th>...</th>\n",
       "      <th>av_title</th>\n",
       "      <th>av_tr</th>\n",
       "      <th>av_track</th>\n",
       "      <th>av_tt</th>\n",
       "      <th>av_u</th>\n",
       "      <th>av_ul</th>\n",
       "      <th>av_var</th>\n",
       "      <th>av_video</th>\n",
       "      <th>av_wbr</th>\n",
       "      <th>len_cat</th>\n",
       "    </tr>\n",
       "  </thead>\n",
       "  <tbody>\n",
       "    <tr>\n",
       "      <th>0</th>\n",
       "      <td>1</td>\n",
       "      <td>1999</td>\n",
       "      <td>22.666667</td>\n",
       "      <td>0.000000</td>\n",
       "      <td>0.000000</td>\n",
       "      <td>0.000000</td>\n",
       "      <td>0.000000</td>\n",
       "      <td>0.000000</td>\n",
       "      <td>0.000000</td>\n",
       "      <td>0.000000</td>\n",
       "      <td>...</td>\n",
       "      <td>0.666667</td>\n",
       "      <td>7.666667</td>\n",
       "      <td>0.0</td>\n",
       "      <td>0.000000</td>\n",
       "      <td>0.000000</td>\n",
       "      <td>0.000000</td>\n",
       "      <td>0.000000</td>\n",
       "      <td>0.000000</td>\n",
       "      <td>0.0</td>\n",
       "      <td>short</td>\n",
       "    </tr>\n",
       "    <tr>\n",
       "      <th>1</th>\n",
       "      <td>2</td>\n",
       "      <td>2000</td>\n",
       "      <td>30.691489</td>\n",
       "      <td>0.000000</td>\n",
       "      <td>0.000000</td>\n",
       "      <td>0.021277</td>\n",
       "      <td>0.085106</td>\n",
       "      <td>0.000000</td>\n",
       "      <td>0.000000</td>\n",
       "      <td>0.000000</td>\n",
       "      <td>...</td>\n",
       "      <td>0.904255</td>\n",
       "      <td>7.744681</td>\n",
       "      <td>0.0</td>\n",
       "      <td>0.063830</td>\n",
       "      <td>0.021277</td>\n",
       "      <td>0.329787</td>\n",
       "      <td>0.000000</td>\n",
       "      <td>0.000000</td>\n",
       "      <td>0.0</td>\n",
       "      <td>short</td>\n",
       "    </tr>\n",
       "    <tr>\n",
       "      <th>2</th>\n",
       "      <td>3</td>\n",
       "      <td>2001</td>\n",
       "      <td>30.306818</td>\n",
       "      <td>0.000000</td>\n",
       "      <td>0.000000</td>\n",
       "      <td>0.011364</td>\n",
       "      <td>0.068182</td>\n",
       "      <td>0.000000</td>\n",
       "      <td>0.000000</td>\n",
       "      <td>0.000000</td>\n",
       "      <td>...</td>\n",
       "      <td>0.875000</td>\n",
       "      <td>7.386364</td>\n",
       "      <td>0.0</td>\n",
       "      <td>0.056818</td>\n",
       "      <td>0.022727</td>\n",
       "      <td>0.204545</td>\n",
       "      <td>0.000000</td>\n",
       "      <td>0.000000</td>\n",
       "      <td>0.0</td>\n",
       "      <td>short</td>\n",
       "    </tr>\n",
       "    <tr>\n",
       "      <th>3</th>\n",
       "      <td>4</td>\n",
       "      <td>2002</td>\n",
       "      <td>28.750000</td>\n",
       "      <td>0.000000</td>\n",
       "      <td>0.000000</td>\n",
       "      <td>0.034091</td>\n",
       "      <td>0.034091</td>\n",
       "      <td>0.000000</td>\n",
       "      <td>0.000000</td>\n",
       "      <td>0.000000</td>\n",
       "      <td>...</td>\n",
       "      <td>0.829545</td>\n",
       "      <td>6.784091</td>\n",
       "      <td>0.0</td>\n",
       "      <td>0.011364</td>\n",
       "      <td>0.034091</td>\n",
       "      <td>0.261364</td>\n",
       "      <td>0.000000</td>\n",
       "      <td>0.000000</td>\n",
       "      <td>0.0</td>\n",
       "      <td>short</td>\n",
       "    </tr>\n",
       "    <tr>\n",
       "      <th>4</th>\n",
       "      <td>5</td>\n",
       "      <td>2003</td>\n",
       "      <td>28.865385</td>\n",
       "      <td>0.000000</td>\n",
       "      <td>0.000000</td>\n",
       "      <td>0.028846</td>\n",
       "      <td>0.000000</td>\n",
       "      <td>0.000000</td>\n",
       "      <td>0.000000</td>\n",
       "      <td>0.000000</td>\n",
       "      <td>...</td>\n",
       "      <td>0.875000</td>\n",
       "      <td>6.355769</td>\n",
       "      <td>0.0</td>\n",
       "      <td>0.000000</td>\n",
       "      <td>0.000000</td>\n",
       "      <td>0.221154</td>\n",
       "      <td>0.000000</td>\n",
       "      <td>0.000000</td>\n",
       "      <td>0.0</td>\n",
       "      <td>short</td>\n",
       "    </tr>\n",
       "    <tr>\n",
       "      <th>...</th>\n",
       "      <td>...</td>\n",
       "      <td>...</td>\n",
       "      <td>...</td>\n",
       "      <td>...</td>\n",
       "      <td>...</td>\n",
       "      <td>...</td>\n",
       "      <td>...</td>\n",
       "      <td>...</td>\n",
       "      <td>...</td>\n",
       "      <td>...</td>\n",
       "      <td>...</td>\n",
       "      <td>...</td>\n",
       "      <td>...</td>\n",
       "      <td>...</td>\n",
       "      <td>...</td>\n",
       "      <td>...</td>\n",
       "      <td>...</td>\n",
       "      <td>...</td>\n",
       "      <td>...</td>\n",
       "      <td>...</td>\n",
       "      <td>...</td>\n",
       "    </tr>\n",
       "    <tr>\n",
       "      <th>61</th>\n",
       "      <td>17</td>\n",
       "      <td>2017</td>\n",
       "      <td>361.070632</td>\n",
       "      <td>0.037175</td>\n",
       "      <td>0.003717</td>\n",
       "      <td>0.052045</td>\n",
       "      <td>0.000000</td>\n",
       "      <td>0.003717</td>\n",
       "      <td>8.453532</td>\n",
       "      <td>1.211896</td>\n",
       "      <td>...</td>\n",
       "      <td>3.159851</td>\n",
       "      <td>6.338290</td>\n",
       "      <td>0.0</td>\n",
       "      <td>0.000000</td>\n",
       "      <td>0.509294</td>\n",
       "      <td>31.003717</td>\n",
       "      <td>0.037175</td>\n",
       "      <td>0.516729</td>\n",
       "      <td>0.0</td>\n",
       "      <td>long</td>\n",
       "    </tr>\n",
       "    <tr>\n",
       "      <th>62</th>\n",
       "      <td>18</td>\n",
       "      <td>2018</td>\n",
       "      <td>361.408602</td>\n",
       "      <td>0.035842</td>\n",
       "      <td>0.000000</td>\n",
       "      <td>0.125448</td>\n",
       "      <td>0.000000</td>\n",
       "      <td>0.003584</td>\n",
       "      <td>8.232975</td>\n",
       "      <td>0.630824</td>\n",
       "      <td>...</td>\n",
       "      <td>4.641577</td>\n",
       "      <td>6.759857</td>\n",
       "      <td>0.0</td>\n",
       "      <td>0.000000</td>\n",
       "      <td>0.620072</td>\n",
       "      <td>33.792115</td>\n",
       "      <td>0.039427</td>\n",
       "      <td>0.555556</td>\n",
       "      <td>0.0</td>\n",
       "      <td>long</td>\n",
       "    </tr>\n",
       "    <tr>\n",
       "      <th>63</th>\n",
       "      <td>19</td>\n",
       "      <td>2019</td>\n",
       "      <td>332.183801</td>\n",
       "      <td>0.068536</td>\n",
       "      <td>0.000000</td>\n",
       "      <td>0.177570</td>\n",
       "      <td>0.000000</td>\n",
       "      <td>0.003115</td>\n",
       "      <td>7.747664</td>\n",
       "      <td>0.747664</td>\n",
       "      <td>...</td>\n",
       "      <td>5.021807</td>\n",
       "      <td>5.934579</td>\n",
       "      <td>0.0</td>\n",
       "      <td>0.000000</td>\n",
       "      <td>0.342679</td>\n",
       "      <td>31.080997</td>\n",
       "      <td>0.009346</td>\n",
       "      <td>0.757009</td>\n",
       "      <td>0.0</td>\n",
       "      <td>long</td>\n",
       "    </tr>\n",
       "    <tr>\n",
       "      <th>64</th>\n",
       "      <td>20</td>\n",
       "      <td>2020</td>\n",
       "      <td>323.441088</td>\n",
       "      <td>0.051360</td>\n",
       "      <td>0.000000</td>\n",
       "      <td>0.126888</td>\n",
       "      <td>0.000000</td>\n",
       "      <td>0.000000</td>\n",
       "      <td>7.223565</td>\n",
       "      <td>0.583082</td>\n",
       "      <td>...</td>\n",
       "      <td>5.102719</td>\n",
       "      <td>5.462236</td>\n",
       "      <td>0.0</td>\n",
       "      <td>0.000000</td>\n",
       "      <td>0.241692</td>\n",
       "      <td>29.000000</td>\n",
       "      <td>0.009063</td>\n",
       "      <td>1.178248</td>\n",
       "      <td>0.0</td>\n",
       "      <td>long</td>\n",
       "    </tr>\n",
       "    <tr>\n",
       "      <th>65</th>\n",
       "      <td>21</td>\n",
       "      <td>2021</td>\n",
       "      <td>294.096866</td>\n",
       "      <td>0.042735</td>\n",
       "      <td>0.000000</td>\n",
       "      <td>0.113960</td>\n",
       "      <td>0.000000</td>\n",
       "      <td>0.000000</td>\n",
       "      <td>8.282051</td>\n",
       "      <td>0.635328</td>\n",
       "      <td>...</td>\n",
       "      <td>4.074074</td>\n",
       "      <td>5.011396</td>\n",
       "      <td>0.0</td>\n",
       "      <td>0.000000</td>\n",
       "      <td>0.205128</td>\n",
       "      <td>26.566952</td>\n",
       "      <td>0.008547</td>\n",
       "      <td>0.846154</td>\n",
       "      <td>0.0</td>\n",
       "      <td>long</td>\n",
       "    </tr>\n",
       "  </tbody>\n",
       "</table>\n",
       "<p>66 rows × 125 columns</p>\n",
       "</div>"
      ],
      "text/plain": [
       "    index  year        av_a   av_abbr  av_acronym  av_address  av_applet  \\\n",
       "0       1  1999   22.666667  0.000000    0.000000    0.000000   0.000000   \n",
       "1       2  2000   30.691489  0.000000    0.000000    0.021277   0.085106   \n",
       "2       3  2001   30.306818  0.000000    0.000000    0.011364   0.068182   \n",
       "3       4  2002   28.750000  0.000000    0.000000    0.034091   0.034091   \n",
       "4       5  2003   28.865385  0.000000    0.000000    0.028846   0.000000   \n",
       "..    ...   ...         ...       ...         ...         ...        ...   \n",
       "61     17  2017  361.070632  0.037175    0.003717    0.052045   0.000000   \n",
       "62     18  2018  361.408602  0.035842    0.000000    0.125448   0.000000   \n",
       "63     19  2019  332.183801  0.068536    0.000000    0.177570   0.000000   \n",
       "64     20  2020  323.441088  0.051360    0.000000    0.126888   0.000000   \n",
       "65     21  2021  294.096866  0.042735    0.000000    0.113960   0.000000   \n",
       "\n",
       "     av_area  av_article  av_aside  ...  av_title     av_tr  av_track  \\\n",
       "0   0.000000    0.000000  0.000000  ...  0.666667  7.666667       0.0   \n",
       "1   0.000000    0.000000  0.000000  ...  0.904255  7.744681       0.0   \n",
       "2   0.000000    0.000000  0.000000  ...  0.875000  7.386364       0.0   \n",
       "3   0.000000    0.000000  0.000000  ...  0.829545  6.784091       0.0   \n",
       "4   0.000000    0.000000  0.000000  ...  0.875000  6.355769       0.0   \n",
       "..       ...         ...       ...  ...       ...       ...       ...   \n",
       "61  0.003717    8.453532  1.211896  ...  3.159851  6.338290       0.0   \n",
       "62  0.003584    8.232975  0.630824  ...  4.641577  6.759857       0.0   \n",
       "63  0.003115    7.747664  0.747664  ...  5.021807  5.934579       0.0   \n",
       "64  0.000000    7.223565  0.583082  ...  5.102719  5.462236       0.0   \n",
       "65  0.000000    8.282051  0.635328  ...  4.074074  5.011396       0.0   \n",
       "\n",
       "       av_tt      av_u      av_ul    av_var  av_video  av_wbr  len_cat  \n",
       "0   0.000000  0.000000   0.000000  0.000000  0.000000     0.0    short  \n",
       "1   0.063830  0.021277   0.329787  0.000000  0.000000     0.0    short  \n",
       "2   0.056818  0.022727   0.204545  0.000000  0.000000     0.0    short  \n",
       "3   0.011364  0.034091   0.261364  0.000000  0.000000     0.0    short  \n",
       "4   0.000000  0.000000   0.221154  0.000000  0.000000     0.0    short  \n",
       "..       ...       ...        ...       ...       ...     ...      ...  \n",
       "61  0.000000  0.509294  31.003717  0.037175  0.516729     0.0     long  \n",
       "62  0.000000  0.620072  33.792115  0.039427  0.555556     0.0     long  \n",
       "63  0.000000  0.342679  31.080997  0.009346  0.757009     0.0     long  \n",
       "64  0.000000  0.241692  29.000000  0.009063  1.178248     0.0     long  \n",
       "65  0.000000  0.205128  26.566952  0.008547  0.846154     0.0     long  \n",
       "\n",
       "[66 rows x 125 columns]"
      ]
     },
     "execution_count": 323,
     "metadata": {},
     "output_type": "execute_result"
    }
   ],
   "source": [
    "df3"
   ]
  },
  {
   "cell_type": "code",
   "execution_count": 322,
   "id": "4fa91d5f",
   "metadata": {},
   "outputs": [
    {
     "data": {
      "text/plain": [
       "[Text(0.5, 1.0, 'Average html length - all pages'),\n",
       " Text(0, 0.5, 'average length of webpage'),\n",
       " (0.0, 261448.45057034222)]"
      ]
     },
     "execution_count": 322,
     "metadata": {},
     "output_type": "execute_result"
    },
    {
     "data": {
      "image/png": "[encoded data removed]",
      "text/plain": [
       "<Figure size 432x288 with 1 Axes>"
      ]
     },
     "metadata": {
      "needs_background": "light"
     },
     "output_type": "display_data"
    }
   ],
   "source": [
    "# PAGES LENGTH\n",
    "\n",
    "df_pagesAvLength\n",
    "\n",
    "p = sns.lineplot(data=df_pagesAvLength, x=\"year\", y = \"av_length\")\n",
    "p.set(title = \"Average html length - all pages\", ylabel = \"average length of webpage\", ylim= [0,df_pagesAvLength[\"av_length\"].max() + 5])"
   ]
  },
  {
   "cell_type": "code",
   "execution_count": 326,
   "id": "41421a4f",
   "metadata": {},
   "outputs": [
    {
     "data": {
      "text/plain": [
       "[Text(0.5, 1.0, 'Average html tag count - div'),\n",
       " Text(0, 0.5, 'Average occurences of given tag'),\n",
       " (0.0, 432.5806451612903)]"
      ]
     },
     "execution_count": 326,
     "metadata": {},
     "output_type": "execute_result"
    },
    {
     "data": {
      "image/png": "[encoded data removed]",
      "text/plain": [
       "<Figure size 432x288 with 1 Axes>"
      ]
     },
     "metadata": {
      "needs_background": "light"
     },
     "output_type": "display_data"
    }
   ],
   "source": [
    "# div\n",
    "\n",
    "p = sns.lineplot(data=df3, x=\"year\", y = \"av_div\", hue = \"len_cat\")\n",
    "p.set(title = \"Average html tag count - div\", ylabel = \"Average occurences of given tag\", ylim= [0,df3[\"av_div\"].max()])"
   ]
  },
  {
   "cell_type": "code",
   "execution_count": 327,
   "id": "0f9ba789",
   "metadata": {},
   "outputs": [
    {
     "data": {
      "text/plain": [
       "[Text(0.5, 1.0, 'Average html tag count - td'),\n",
       " Text(0, 0.5, 'Average occurences of given tag'),\n",
       " (0.0, 511.6666666666667)]"
      ]
     },
     "execution_count": 327,
     "metadata": {},
     "output_type": "execute_result"
    },
    {
     "data": {
      "image/png": "[encoded data removed]",
      "text/plain": [
       "<Figure size 432x288 with 1 Axes>"
      ]
     },
     "metadata": {
      "needs_background": "light"
     },
     "output_type": "display_data"
    }
   ],
   "source": [
    "# td\n",
    "\n",
    "p = sns.lineplot(data=df3, x=\"year\", y = \"av_td\", hue = \"len_cat\")\n",
    "p.set(title = \"Average html tag count - td\", ylabel = \"Average occurences of given tag\", ylim= [0,df3[\"av_td\"].max()])"
   ]
  },
  {
   "cell_type": "code",
   "execution_count": 356,
   "id": "913641c0",
   "metadata": {},
   "outputs": [
    {
     "data": {
      "text/plain": [
       "[Text(0.5, 1.0, 'Average html tag count - table'),\n",
       " Text(0, 0.5, 'Average occurences of given tag'),\n",
       " (0.0, 67.0)]"
      ]
     },
     "execution_count": 356,
     "metadata": {},
     "output_type": "execute_result"
    },
    {
     "data": {
      "image/png": "[encoded data removed]",
      "text/plain": [
       "<Figure size 432x288 with 1 Axes>"
      ]
     },
     "metadata": {
      "needs_background": "light"
     },
     "output_type": "display_data"
    }
   ],
   "source": [
    "# table\n",
    "\n",
    "p = sns.lineplot(data=df3, x=\"year\", y = \"av_table\", hue = \"len_cat\")\n",
    "p.set(title = \"Average html tag count - table\", ylabel = \"Average occurences of given tag\", ylim= [0,df3[\"av_table\"].max()])"
   ]
  },
  {
   "cell_type": "code",
   "execution_count": 328,
   "id": "f8f2335c",
   "metadata": {},
   "outputs": [
    {
     "data": {
      "text/plain": [
       "[Text(0.5, 1.0, 'Average html tag count - video'),\n",
       " Text(0, 0.5, 'Average occurences of given tag'),\n",
       " (0.0, 1.1782477341389728)]"
      ]
     },
     "execution_count": 328,
     "metadata": {},
     "output_type": "execute_result"
    },
    {
     "data": {
      "image/png": "[encoded data removed]",
      "text/plain": [
       "<Figure size 432x288 with 1 Axes>"
      ]
     },
     "metadata": {
      "needs_background": "light"
     },
     "output_type": "display_data"
    }
   ],
   "source": [
    "# video\n",
    "\n",
    "p = sns.lineplot(data=df3, x=\"year\", y = \"av_video\", hue = \"len_cat\")\n",
    "p.set(title = \"Average html tag count - video\", ylabel = \"Average occurences of given tag\", ylim= [0,df3[\"av_video\"].max()])"
   ]
  },
  {
   "cell_type": "code",
   "execution_count": 329,
   "id": "f8b6afab",
   "metadata": {},
   "outputs": [
    {
     "data": {
      "text/plain": [
       "[Text(0.5, 1.0, 'Average html tag count - a'),\n",
       " Text(0, 0.5, 'Average occurences of given tag'),\n",
       " (0.0, 1127.5)]"
      ]
     },
     "execution_count": 329,
     "metadata": {},
     "output_type": "execute_result"
    },
    {
     "data": {
      "image/png": "[encoded data removed]",
      "text/plain": [
       "<Figure size 432x288 with 1 Axes>"
      ]
     },
     "metadata": {
      "needs_background": "light"
     },
     "output_type": "display_data"
    }
   ],
   "source": [
    "# a\n",
    "\n",
    "p = sns.lineplot(data=df3, x=\"year\", y = \"av_a\", hue = \"len_cat\")\n",
    "p.set(title = \"Average html tag count - a\", ylabel = \"Average occurences of given tag\", ylim= [0,df3[\"av_a\"].max()])"
   ]
  },
  {
   "cell_type": "code",
   "execution_count": 330,
   "id": "5ff9a3aa",
   "metadata": {},
   "outputs": [
    {
     "data": {
      "text/plain": [
       "[Text(0.5, 1.0, 'Average html tag count - br'),\n",
       " Text(0, 0.5, 'Average occurences of given tag'),\n",
       " (0.0, 60.27272727272727)]"
      ]
     },
     "execution_count": 330,
     "metadata": {},
     "output_type": "execute_result"
    },
    {
     "data": {
      "image/png": "[encoded data removed]",
      "text/plain": [
       "<Figure size 432x288 with 1 Axes>"
      ]
     },
     "metadata": {
      "needs_background": "light"
     },
     "output_type": "display_data"
    }
   ],
   "source": [
    "# br\n",
    "\n",
    "p = sns.lineplot(data=df3, x=\"year\", y = \"av_br\", hue = \"len_cat\")\n",
    "p.set(title = \"Average html tag count - br\", ylabel = \"Average occurences of given tag\", ylim= [0,df3[\"av_br\"].max()])"
   ]
  },
  {
   "cell_type": "code",
   "execution_count": 331,
   "id": "87dbc8d0",
   "metadata": {},
   "outputs": [
    {
     "data": {
      "text/plain": [
       "[Text(0.5, 1.0, 'Average html tag count - b'),\n",
       " Text(0, 0.5, 'Average occurences of given tag'),\n",
       " (0.0, 46.833333333333336)]"
      ]
     },
     "execution_count": 331,
     "metadata": {},
     "output_type": "execute_result"
    },
    {
     "data": {
      "image/png": "[encoded data removed]",
      "text/plain": [
       "<Figure size 432x288 with 1 Axes>"
      ]
     },
     "metadata": {
      "needs_background": "light"
     },
     "output_type": "display_data"
    }
   ],
   "source": [
    "# b\n",
    "\n",
    "p = sns.lineplot(data=df3, x=\"year\", y = \"av_b\", hue = \"len_cat\")\n",
    "p.set(title = \"Average html tag count - b\", ylabel = \"Average occurences of given tag\", ylim= [0,df3[\"av_b\"].max()])"
   ]
  },
  {
   "cell_type": "code",
   "execution_count": 332,
   "id": "cd4548e5",
   "metadata": {},
   "outputs": [
    {
     "data": {
      "text/plain": [
       "[Text(0.5, 1.0, 'Average html tag count - script'),\n",
       " Text(0, 0.5, 'Average occurences of given tag'),\n",
       " (0.0, 39.6530612244898)]"
      ]
     },
     "execution_count": 332,
     "metadata": {},
     "output_type": "execute_result"
    },
    {
     "data": {
      "image/png": "[encoded data removed]",
      "text/plain": [
       "<Figure size 432x288 with 1 Axes>"
      ]
     },
     "metadata": {
      "needs_background": "light"
     },
     "output_type": "display_data"
    }
   ],
   "source": [
    "# script\n",
    "\n",
    "p = sns.lineplot(data=df3, x=\"year\", y = \"av_script\", hue = \"len_cat\")\n",
    "p.set(title = \"Average html tag count - script\", ylabel = \"Average occurences of given tag\", ylim= [0,df3[\"av_script\"].max()])"
   ]
  },
  {
   "cell_type": "code",
   "execution_count": 333,
   "id": "cc30ec24",
   "metadata": {},
   "outputs": [
    {
     "data": {
      "text/plain": [
       "[Text(0.5, 1.0, 'Average html tag count - span'),\n",
       " Text(0, 0.5, 'Average occurences of given tag'),\n",
       " (0.0, 203.08771929824562)]"
      ]
     },
     "execution_count": 333,
     "metadata": {},
     "output_type": "execute_result"
    },
    {
     "data": {
      "image/png": "[encoded data removed]",
      "text/plain": [
       "<Figure size 432x288 with 1 Axes>"
      ]
     },
     "metadata": {
      "needs_background": "light"
     },
     "output_type": "display_data"
    }
   ],
   "source": [
    "# span\n",
    "\n",
    "p = sns.lineplot(data=df3, x=\"year\", y = \"av_span\", hue = \"len_cat\")\n",
    "p.set(title = \"Average html tag count - span\", ylabel = \"Average occurences of given tag\", ylim= [0,df3[\"av_span\"].max()])"
   ]
  },
  {
   "cell_type": "code",
   "execution_count": 334,
   "id": "5993b7a7",
   "metadata": {},
   "outputs": [
    {
     "data": {
      "text/plain": [
       "[Text(0.5, 1.0, 'Average html tag count - ul'),\n",
       " Text(0, 0.5, 'Average occurences of given tag'),\n",
       " (0.0, 41.18859649122807)]"
      ]
     },
     "execution_count": 334,
     "metadata": {},
     "output_type": "execute_result"
    },
    {
     "data": {
      "image/png": "[encoded data removed]",
      "text/plain": [
       "<Figure size 432x288 with 1 Axes>"
      ]
     },
     "metadata": {
      "needs_background": "light"
     },
     "output_type": "display_data"
    }
   ],
   "source": [
    "# ul\n",
    "\n",
    "p = sns.lineplot(data=df3, x=\"year\", y = \"av_ul\", hue = \"len_cat\")\n",
    "p.set(title = \"Average html tag count - ul\", ylabel = \"Average occurences of given tag\", ylim= [0,df3[\"av_ul\"].max()])"
   ]
  },
  {
   "cell_type": "code",
   "execution_count": 353,
   "id": "fb7ce062",
   "metadata": {},
   "outputs": [
    {
     "data": {
      "text/plain": [
       "[Text(0.5, 1.0, 'Average html tag count - small'),\n",
       " Text(0, 0.5, 'Average occurences of given tag'),\n",
       " (0.0, 15.384615384615385)]"
      ]
     },
     "execution_count": 353,
     "metadata": {},
     "output_type": "execute_result"
    },
    {
     "data": {
      "image/png": "[encoded data removed]",
      "text/plain": [
       "<Figure size 432x288 with 1 Axes>"
      ]
     },
     "metadata": {
      "needs_background": "light"
     },
     "output_type": "display_data"
    }
   ],
   "source": [
    "# small\n",
    "\n",
    "p = sns.lineplot(data=df3, x=\"year\", y = \"av_small\", hue = \"len_cat\")\n",
    "p.set(title = \"Average html tag count - small\", ylabel = \"Average occurences of given tag\", ylim= [0,df3[\"av_small\"].max()])"
   ]
  },
  {
   "cell_type": "code",
   "execution_count": 354,
   "id": "6a34257d",
   "metadata": {},
   "outputs": [
    {
     "data": {
      "text/plain": [
       "[Text(0.5, 1.0, 'Average html tag count - select'),\n",
       " Text(0, 0.5, 'Average occurences of given tag'),\n",
       " (0.0, 2.4615384615384617)]"
      ]
     },
     "execution_count": 354,
     "metadata": {},
     "output_type": "execute_result"
    },
    {
     "data": {
      "image/png": "[encoded data removed]",
      "text/plain": [
       "<Figure size 432x288 with 1 Axes>"
      ]
     },
     "metadata": {
      "needs_background": "light"
     },
     "output_type": "display_data"
    }
   ],
   "source": [
    "# select\n",
    "\n",
    "p = sns.lineplot(data=df3, x=\"year\", y = \"av_select\", hue = \"len_cat\")\n",
    "p.set(title = \"Average html tag count - select\", ylabel = \"Average occurences of given tag\", ylim= [0,df3[\"av_select\"].max()])"
   ]
  },
  {
   "cell_type": "code",
   "execution_count": null,
   "id": "a08e99b0",
   "metadata": {},
   "outputs": [],
   "source": []
  }
 ],
 "metadata": {
  "kernelspec": {
   "display_name": "Python 3 (ipykernel)",
   "language": "python",
   "name": "python3"
  },
  "language_info": {
   "codemirror_mode": {
    "name": "ipython",
    "version": 3
   },
   "file_extension": ".py",
   "mimetype": "text/x-python",
   "name": "python",
   "nbconvert_exporter": "python",
   "pygments_lexer": "ipython3",
   "version": "3.7.10"
  }
 },
 "nbformat": 4,
 "nbformat_minor": 5
}
